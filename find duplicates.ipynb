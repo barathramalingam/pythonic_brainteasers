{
 "cells": [
  {
   "cell_type": "code",
   "execution_count": 32,
   "id": "cb797714",
   "metadata": {},
   "outputs": [
    {
     "name": "stdout",
     "output_type": "stream",
     "text": [
      "true\n",
      "true\n"
     ]
    }
   ],
   "source": [
    "x = 'good day'\n",
    "\n",
    "\n",
    "count = 0\n",
    "char=['a','b','c','d','e','f','g','h','i','j','k','l','m','n','o','p','q','r','s','t','u','w','x','y','z']\n",
    "y = []\n",
    "z = []\n",
    "for char in x.split():\n",
    "    if char in x.split():\n",
    "        y.append(char)\n",
    "        count += 1\n",
    "        print('true')\n",
    "    else:\n",
    "        z.append(char)\n",
    "        count +=0\n",
    "        print('False')\n",
    "        \n",
    "        \n",
    "          \n",
    "    "
   ]
  },
  {
   "cell_type": "code",
   "execution_count": 33,
   "id": "9cf0ee1c",
   "metadata": {},
   "outputs": [
    {
     "data": {
      "text/plain": [
       "['good', 'day']"
      ]
     },
     "execution_count": 33,
     "metadata": {},
     "output_type": "execute_result"
    }
   ],
   "source": [
    "y"
   ]
  },
  {
   "cell_type": "code",
   "execution_count": 42,
   "id": "0af6071d",
   "metadata": {},
   "outputs": [
    {
     "name": "stdout",
     "output_type": "stream",
     "text": [
      "True\n",
      "True\n",
      "True\n",
      "True\n",
      "True\n",
      "True\n",
      "True\n"
     ]
    }
   ],
   "source": [
    "x = 'good day'\n",
    "\n",
    "count =0\n",
    "char=['a','b','c','d','e','f','g','h','i','j','k','l','m','n','o','p','q','r','s','t','u','w','x','y','z']\n",
    "y = []\n",
    "z = []\n",
    "\n",
    "for word in x.split():\n",
    "    for letter in word:\n",
    "        if letter in char:\n",
    "            if letter not in char:\n",
    "                y.append(letter)\n",
    "                count+= 1\n",
    "                print('false')\n",
    "            else:\n",
    "                z.append(letter)\n",
    "                \n",
    "                print('True')"
   ]
  },
  {
   "cell_type": "code",
   "execution_count": 55,
   "id": "f6d1981a",
   "metadata": {},
   "outputs": [
    {
     "data": {
      "text/plain": [
       "<function list.count(value, /)>"
      ]
     },
     "execution_count": 55,
     "metadata": {},
     "output_type": "execute_result"
    }
   ],
   "source": [
    "y.count"
   ]
  },
  {
   "cell_type": "code",
   "execution_count": 57,
   "id": "129291b4",
   "metadata": {},
   "outputs": [
    {
     "ename": "TypeError",
     "evalue": "list.count() takes exactly one argument (0 given)",
     "output_type": "error",
     "traceback": [
      "\u001b[0;31m---------------------------------------------------------------------------\u001b[0m",
      "\u001b[0;31mTypeError\u001b[0m                                 Traceback (most recent call last)",
      "Cell \u001b[0;32mIn[57], line 1\u001b[0m\n\u001b[0;32m----> 1\u001b[0m z\u001b[38;5;241m.\u001b[39mcount()\n",
      "\u001b[0;31mTypeError\u001b[0m: list.count() takes exactly one argument (0 given)"
     ]
    }
   ],
   "source": []
  },
  {
   "cell_type": "code",
   "execution_count": 54,
   "id": "5791628b",
   "metadata": {},
   "outputs": [
    {
     "name": "stdout",
     "output_type": "stream",
     "text": [
      "false\n",
      "True\n",
      "false\n",
      "True\n",
      "false\n",
      "True\n",
      "false\n",
      "True\n",
      "false\n",
      "True\n",
      "false\n",
      "True\n",
      "false\n",
      "True\n"
     ]
    }
   ],
   "source": [
    "x = 'good day'\n",
    "\n",
    "count =0\n",
    "char=['a','b','c','d','e','f','g','h','i','j','k','l','m','n','o','p','q','r','s','t','u','w','x','y','z']\n",
    "y = []\n",
    "z = []\n",
    "\n",
    "for word in x.split():\n",
    "    for letter in word:\n",
    "        if letter in char:\n",
    "            y.append(letter)\n",
    "            count+= 1\n",
    "            print('false')\n",
    "            if letter in y :\n",
    "                \n",
    "            \n",
    "                z.append(letter)\n",
    "                \n",
    "                print('True')"
   ]
  },
  {
   "cell_type": "code",
   "execution_count": 45,
   "id": "7cb566de",
   "metadata": {},
   "outputs": [
    {
     "data": {
      "text/plain": [
       "['g', 'o', 'o', 'd', 'd', 'a', 'y']"
      ]
     },
     "execution_count": 45,
     "metadata": {},
     "output_type": "execute_result"
    }
   ],
   "source": [
    "y"
   ]
  },
  {
   "cell_type": "code",
   "execution_count": 46,
   "id": "03770eab",
   "metadata": {},
   "outputs": [
    {
     "data": {
      "text/plain": [
       "['g', 'o', 'o', 'd', 'd', 'a', 'y']"
      ]
     },
     "execution_count": 46,
     "metadata": {},
     "output_type": "execute_result"
    }
   ],
   "source": [
    "z"
   ]
  },
  {
   "cell_type": "code",
   "execution_count": null,
   "id": "000bf543",
   "metadata": {},
   "outputs": [],
   "source": []
  }
 ],
 "metadata": {
  "kernelspec": {
   "display_name": "Python 3 (ipykernel)",
   "language": "python",
   "name": "python3"
  },
  "language_info": {
   "codemirror_mode": {
    "name": "ipython",
    "version": 3
   },
   "file_extension": ".py",
   "mimetype": "text/x-python",
   "name": "python",
   "nbconvert_exporter": "python",
   "pygments_lexer": "ipython3",
   "version": "3.11.3"
  }
 },
 "nbformat": 4,
 "nbformat_minor": 5
}
